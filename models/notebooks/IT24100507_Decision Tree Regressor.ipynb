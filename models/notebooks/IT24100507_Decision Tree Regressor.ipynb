{
 "cells": [
  {
   "cell_type": "code",
   "execution_count": 1,
   "id": "81ce0b95",
   "metadata": {},
   "outputs": [],
   "source": [
    "# Run if you haven't installed libraries already\n",
    "!pip install -q scikit-learn pandas numpy matplotlib seaborn joblib\n"
   ]
  },
  {
   "cell_type": "code",
   "execution_count": 2,
   "id": "6f92bc5a",
   "metadata": {},
   "outputs": [],
   "source": [
    "import pandas as pd\n",
    "import numpy as np\n",
    "import matplotlib.pyplot as plt\n",
    "import seaborn as sns\n",
    "import joblib\n",
    "\n",
    "from sklearn.model_selection import train_test_split, GridSearchCV, cross_val_score\n",
    "from sklearn.tree import DecisionTreeRegressor, plot_tree\n",
    "from sklearn.decomposition import PCA\n",
    "from sklearn.preprocessing import StandardScaler\n",
    "from sklearn.metrics import r2_score, mean_absolute_error\n",
    "\n",
    "import warnings\n",
    "warnings.filterwarnings('ignore')\n",
    "sns.set_style('whitegrid')\n"
   ]
  },
  {
   "cell_type": "code",
   "execution_count": 3,
   "id": "9fbcc6f9",
   "metadata": {},
   "outputs": [
    {
     "name": "stdout",
     "output_type": "stream",
     "text": [
      "Shape: (3063, 11)\n"
     ]
    },
    {
     "data": {
      "text/html": [
       "<div>\n",
       "<style scoped>\n",
       "    .dataframe tbody tr th:only-of-type {\n",
       "        vertical-align: middle;\n",
       "    }\n",
       "\n",
       "    .dataframe tbody tr th {\n",
       "        vertical-align: top;\n",
       "    }\n",
       "\n",
       "    .dataframe thead th {\n",
       "        text-align: right;\n",
       "    }\n",
       "</style>\n",
       "<table border=\"1\" class=\"dataframe\">\n",
       "  <thead>\n",
       "    <tr style=\"text-align: right;\">\n",
       "      <th></th>\n",
       "      <th>car_age</th>\n",
       "      <th>year</th>\n",
       "      <th>owner</th>\n",
       "      <th>km_driven</th>\n",
       "      <th>brand_name_Mahindra</th>\n",
       "      <th>brand_name_Tata</th>\n",
       "      <th>brand_name_Toyota</th>\n",
       "      <th>brand_popularity</th>\n",
       "      <th>brand_name_Honda</th>\n",
       "      <th>brand_name_Chevrolet</th>\n",
       "      <th>selling_price</th>\n",
       "    </tr>\n",
       "  </thead>\n",
       "  <tbody>\n",
       "    <tr>\n",
       "      <th>0</th>\n",
       "      <td>0.684211</td>\n",
       "      <td>0.315789</td>\n",
       "      <td>0</td>\n",
       "      <td>0.421683</td>\n",
       "      <td>0.0</td>\n",
       "      <td>0.0</td>\n",
       "      <td>0.0</td>\n",
       "      <td>1.000000</td>\n",
       "      <td>0.0</td>\n",
       "      <td>0.0</td>\n",
       "      <td>60000.000000</td>\n",
       "    </tr>\n",
       "    <tr>\n",
       "      <th>1</th>\n",
       "      <td>0.684211</td>\n",
       "      <td>0.315789</td>\n",
       "      <td>0</td>\n",
       "      <td>0.301201</td>\n",
       "      <td>0.0</td>\n",
       "      <td>0.0</td>\n",
       "      <td>0.0</td>\n",
       "      <td>1.000000</td>\n",
       "      <td>0.0</td>\n",
       "      <td>0.0</td>\n",
       "      <td>504355.832295</td>\n",
       "    </tr>\n",
       "    <tr>\n",
       "      <th>2</th>\n",
       "      <td>0.421053</td>\n",
       "      <td>0.578947</td>\n",
       "      <td>0</td>\n",
       "      <td>0.602407</td>\n",
       "      <td>0.0</td>\n",
       "      <td>0.0</td>\n",
       "      <td>0.0</td>\n",
       "      <td>0.578947</td>\n",
       "      <td>0.0</td>\n",
       "      <td>0.0</td>\n",
       "      <td>600000.000000</td>\n",
       "    </tr>\n",
       "    <tr>\n",
       "      <th>3</th>\n",
       "      <td>0.157895</td>\n",
       "      <td>0.842105</td>\n",
       "      <td>0</td>\n",
       "      <td>0.277104</td>\n",
       "      <td>0.0</td>\n",
       "      <td>0.0</td>\n",
       "      <td>0.0</td>\n",
       "      <td>0.026316</td>\n",
       "      <td>0.0</td>\n",
       "      <td>0.0</td>\n",
       "      <td>250000.000000</td>\n",
       "    </tr>\n",
       "    <tr>\n",
       "      <th>4</th>\n",
       "      <td>0.315789</td>\n",
       "      <td>0.684211</td>\n",
       "      <td>2</td>\n",
       "      <td>0.849397</td>\n",
       "      <td>0.0</td>\n",
       "      <td>0.0</td>\n",
       "      <td>0.0</td>\n",
       "      <td>0.188259</td>\n",
       "      <td>1.0</td>\n",
       "      <td>0.0</td>\n",
       "      <td>450000.000000</td>\n",
       "    </tr>\n",
       "  </tbody>\n",
       "</table>\n",
       "</div>"
      ],
      "text/plain": [
       "    car_age      year  owner  km_driven  brand_name_Mahindra  brand_name_Tata  \\\n",
       "0  0.684211  0.315789      0   0.421683                  0.0              0.0   \n",
       "1  0.684211  0.315789      0   0.301201                  0.0              0.0   \n",
       "2  0.421053  0.578947      0   0.602407                  0.0              0.0   \n",
       "3  0.157895  0.842105      0   0.277104                  0.0              0.0   \n",
       "4  0.315789  0.684211      2   0.849397                  0.0              0.0   \n",
       "\n",
       "   brand_name_Toyota  brand_popularity  brand_name_Honda  \\\n",
       "0                0.0          1.000000               0.0   \n",
       "1                0.0          1.000000               0.0   \n",
       "2                0.0          0.578947               0.0   \n",
       "3                0.0          0.026316               0.0   \n",
       "4                0.0          0.188259               1.0   \n",
       "\n",
       "   brand_name_Chevrolet  selling_price  \n",
       "0                   0.0   60000.000000  \n",
       "1                   0.0  504355.832295  \n",
       "2                   0.0  600000.000000  \n",
       "3                   0.0  250000.000000  \n",
       "4                   0.0  450000.000000  "
      ]
     },
     "metadata": {},
     "output_type": "display_data"
    },
    {
     "name": "stdout",
     "output_type": "stream",
     "text": [
      "<class 'pandas.core.frame.DataFrame'>\n",
      "RangeIndex: 3063 entries, 0 to 3062\n",
      "Data columns (total 11 columns):\n",
      " #   Column                Non-Null Count  Dtype  \n",
      "---  ------                --------------  -----  \n",
      " 0   car_age               3063 non-null   float64\n",
      " 1   year                  3063 non-null   float64\n",
      " 2   owner                 3063 non-null   int64  \n",
      " 3   km_driven             3063 non-null   float64\n",
      " 4   brand_name_Mahindra   3063 non-null   float64\n",
      " 5   brand_name_Tata       3063 non-null   float64\n",
      " 6   brand_name_Toyota     3063 non-null   float64\n",
      " 7   brand_popularity      3063 non-null   float64\n",
      " 8   brand_name_Honda      3063 non-null   float64\n",
      " 9   brand_name_Chevrolet  3063 non-null   float64\n",
      " 10  selling_price         3063 non-null   float64\n",
      "dtypes: float64(10), int64(1)\n",
      "memory usage: 263.4 KB\n"
     ]
    },
    {
     "data": {
      "text/plain": [
       "None"
      ]
     },
     "metadata": {},
     "output_type": "display_data"
    }
   ],
   "source": [
    "df = pd.read_csv(\"../data/final_output.csv\")\n",
    "print(\"Shape:\", df.shape)\n",
    "display(df.head())\n",
    "display(df.info())\n"
   ]
  },
  {
   "cell_type": "code",
   "execution_count": 4,
   "id": "3204afb2",
   "metadata": {},
   "outputs": [
    {
     "name": "stdout",
     "output_type": "stream",
     "text": [
      "Target: selling_price\n",
      "Number of features: 10\n"
     ]
    },
    {
     "data": {
      "text/plain": [
       "['car_age',\n",
       " 'year',\n",
       " 'owner',\n",
       " 'km_driven',\n",
       " 'brand_name_Mahindra',\n",
       " 'brand_name_Tata',\n",
       " 'brand_name_Toyota',\n",
       " 'brand_popularity',\n",
       " 'brand_name_Honda',\n",
       " 'brand_name_Chevrolet']"
      ]
     },
     "metadata": {},
     "output_type": "display_data"
    }
   ],
   "source": [
    "target_col = 'selling_price'\n",
    "if target_col not in df.columns:\n",
    "    raise ValueError(f\"Target '{target_col}' not found. Columns: {df.columns.tolist()}\")\n",
    "features = df.columns.drop(target_col)\n",
    "print(\"Target:\", target_col)\n",
    "print(\"Number of features:\", len(features))\n",
    "display(features.tolist())\n"
   ]
  },
  {
   "cell_type": "code",
   "execution_count": 5,
   "id": "8a47daf7",
   "metadata": {},
   "outputs": [
    {
     "name": "stdout",
     "output_type": "stream",
     "text": [
      "After cleaning shape: (3063, 11)\n"
     ]
    }
   ],
   "source": [
    "\n",
    "# Drop rows missing target, fill other missing sensibly\n",
    "df = df.dropna(subset=[target_col]).copy()\n",
    "num_cols = df.select_dtypes(include=[np.number]).columns.tolist()\n",
    "df[num_cols] = df[num_cols].fillna(df[num_cols].median())\n",
    "cat_cols = df.select_dtypes(include=['object','category']).columns.tolist()\n",
    "for c in cat_cols:\n",
    "    df[c] = df[c].fillna(df[c].mode().iloc[0])\n",
    "\n",
    "print(\"After cleaning shape:\", df.shape)\n"
   ]
  },
  {
   "cell_type": "code",
   "execution_count": 6,
   "id": "cd09dd5d",
   "metadata": {},
   "outputs": [
    {
     "name": "stdout",
     "output_type": "stream",
     "text": [
      "X shape: (3063, 10)\n"
     ]
    },
    {
     "data": {
      "text/html": [
       "<div>\n",
       "<style scoped>\n",
       "    .dataframe tbody tr th:only-of-type {\n",
       "        vertical-align: middle;\n",
       "    }\n",
       "\n",
       "    .dataframe tbody tr th {\n",
       "        vertical-align: top;\n",
       "    }\n",
       "\n",
       "    .dataframe thead th {\n",
       "        text-align: right;\n",
       "    }\n",
       "</style>\n",
       "<table border=\"1\" class=\"dataframe\">\n",
       "  <thead>\n",
       "    <tr style=\"text-align: right;\">\n",
       "      <th></th>\n",
       "      <th>car_age</th>\n",
       "      <th>year</th>\n",
       "      <th>owner</th>\n",
       "      <th>km_driven</th>\n",
       "      <th>brand_name_Mahindra</th>\n",
       "      <th>brand_name_Tata</th>\n",
       "      <th>brand_name_Toyota</th>\n",
       "      <th>brand_popularity</th>\n",
       "      <th>brand_name_Honda</th>\n",
       "      <th>brand_name_Chevrolet</th>\n",
       "    </tr>\n",
       "  </thead>\n",
       "  <tbody>\n",
       "    <tr>\n",
       "      <th>0</th>\n",
       "      <td>0.684211</td>\n",
       "      <td>0.315789</td>\n",
       "      <td>0</td>\n",
       "      <td>0.421683</td>\n",
       "      <td>0.0</td>\n",
       "      <td>0.0</td>\n",
       "      <td>0.0</td>\n",
       "      <td>1.000000</td>\n",
       "      <td>0.0</td>\n",
       "      <td>0.0</td>\n",
       "    </tr>\n",
       "    <tr>\n",
       "      <th>1</th>\n",
       "      <td>0.684211</td>\n",
       "      <td>0.315789</td>\n",
       "      <td>0</td>\n",
       "      <td>0.301201</td>\n",
       "      <td>0.0</td>\n",
       "      <td>0.0</td>\n",
       "      <td>0.0</td>\n",
       "      <td>1.000000</td>\n",
       "      <td>0.0</td>\n",
       "      <td>0.0</td>\n",
       "    </tr>\n",
       "    <tr>\n",
       "      <th>2</th>\n",
       "      <td>0.421053</td>\n",
       "      <td>0.578947</td>\n",
       "      <td>0</td>\n",
       "      <td>0.602407</td>\n",
       "      <td>0.0</td>\n",
       "      <td>0.0</td>\n",
       "      <td>0.0</td>\n",
       "      <td>0.578947</td>\n",
       "      <td>0.0</td>\n",
       "      <td>0.0</td>\n",
       "    </tr>\n",
       "    <tr>\n",
       "      <th>3</th>\n",
       "      <td>0.157895</td>\n",
       "      <td>0.842105</td>\n",
       "      <td>0</td>\n",
       "      <td>0.277104</td>\n",
       "      <td>0.0</td>\n",
       "      <td>0.0</td>\n",
       "      <td>0.0</td>\n",
       "      <td>0.026316</td>\n",
       "      <td>0.0</td>\n",
       "      <td>0.0</td>\n",
       "    </tr>\n",
       "    <tr>\n",
       "      <th>4</th>\n",
       "      <td>0.315789</td>\n",
       "      <td>0.684211</td>\n",
       "      <td>2</td>\n",
       "      <td>0.849397</td>\n",
       "      <td>0.0</td>\n",
       "      <td>0.0</td>\n",
       "      <td>0.0</td>\n",
       "      <td>0.188259</td>\n",
       "      <td>1.0</td>\n",
       "      <td>0.0</td>\n",
       "    </tr>\n",
       "  </tbody>\n",
       "</table>\n",
       "</div>"
      ],
      "text/plain": [
       "    car_age      year  owner  km_driven  brand_name_Mahindra  brand_name_Tata  \\\n",
       "0  0.684211  0.315789      0   0.421683                  0.0              0.0   \n",
       "1  0.684211  0.315789      0   0.301201                  0.0              0.0   \n",
       "2  0.421053  0.578947      0   0.602407                  0.0              0.0   \n",
       "3  0.157895  0.842105      0   0.277104                  0.0              0.0   \n",
       "4  0.315789  0.684211      2   0.849397                  0.0              0.0   \n",
       "\n",
       "   brand_name_Toyota  brand_popularity  brand_name_Honda  brand_name_Chevrolet  \n",
       "0                0.0          1.000000               0.0                   0.0  \n",
       "1                0.0          1.000000               0.0                   0.0  \n",
       "2                0.0          0.578947               0.0                   0.0  \n",
       "3                0.0          0.026316               0.0                   0.0  \n",
       "4                0.0          0.188259               1.0                   0.0  "
      ]
     },
     "metadata": {},
     "output_type": "display_data"
    }
   ],
   "source": [
    "\n",
    "X = df.drop(columns=[target_col])\n",
    "X = pd.get_dummies(X, drop_first=True)   # one-hot encode\n",
    "y = df[target_col]\n",
    "\n",
    "print(\"X shape:\", X.shape)\n",
    "display(X.head())\n"
   ]
  },
  {
   "cell_type": "code",
   "execution_count": 7,
   "id": "20ecc9bf",
   "metadata": {},
   "outputs": [
    {
     "name": "stdout",
     "output_type": "stream",
     "text": [
      "Train: (2450, 10)  Test: (613, 10)\n"
     ]
    }
   ],
   "source": [
    "X_train, X_test, y_train, y_test = train_test_split(X, y, test_size=0.20, random_state=42)\n",
    "print(\"Train:\", X_train.shape, \" Test:\", X_test.shape)\n"
   ]
  },
  {
   "cell_type": "code",
   "execution_count": 8,
   "id": "3921cc05",
   "metadata": {},
   "outputs": [
    {
     "name": "stdout",
     "output_type": "stream",
     "text": [
      "Scaling done and scaler saved!\n"
     ]
    }
   ],
   "source": [
    "scaler = StandardScaler()\n",
    "X_train_scaled = scaler.fit_transform(X_train)\n",
    "X_test_scaled = scaler.transform(X_test)\n",
    "# Save the scaler\n",
    "joblib.dump(scaler, \"../results/outputs/IT24100507_scaler.joblib\")\n",
    "\n",
    "print(\"Scaling done and scaler saved!\")"
   ]
  },
  {
   "cell_type": "code",
   "execution_count": 9,
   "id": "98c5d6a7",
   "metadata": {},
   "outputs": [
    {
     "name": "stdout",
     "output_type": "stream",
     "text": [
      "BASE -> R2: 0.2960, MAE: 148446.06\n"
     ]
    }
   ],
   "source": [
    "\n",
    "base_model = DecisionTreeRegressor(random_state=42)\n",
    "base_model.fit(X_train, y_train)\n",
    "y_pred_base = base_model.predict(X_test)\n",
    "r2_base = r2_score(y_test, y_pred_base)\n",
    "mae_base = mean_absolute_error(y_test, y_pred_base)\n",
    "print(f\"BASE -> R2: {r2_base:.4f}, MAE: {mae_base:.2f}\")\n"
   ]
  },
  {
   "cell_type": "code",
   "execution_count": 10,
   "id": "a2753c52",
   "metadata": {},
   "outputs": [
    {
     "name": "stdout",
     "output_type": "stream",
     "text": [
      "Best params: {'max_depth': 5, 'min_samples_leaf': 4, 'min_samples_split': 2}\n",
      "TUNED -> R2: 0.5171, MAE: 125734.21\n"
     ]
    },
    {
     "data": {
      "text/plain": [
       "['../results/outputs/IT24100507_best_decision_tree.joblib']"
      ]
     },
     "execution_count": 10,
     "metadata": {},
     "output_type": "execute_result"
    }
   ],
   "source": [
    "param_grid = {\n",
    "    'max_depth': [3, 5, 7, 10, None],\n",
    "    'min_samples_split': [2, 5, 10],\n",
    "    'min_samples_leaf': [1, 2, 4]\n",
    "}\n",
    "grid = GridSearchCV(DecisionTreeRegressor(random_state=42),\n",
    "                    param_grid, cv=5, scoring='r2', n_jobs=-1)\n",
    "grid.fit(X_train, y_train)\n",
    "best_tree = grid.best_estimator_\n",
    "y_pred_tuned = best_tree.predict(X_test)\n",
    "r2_tuned = r2_score(y_test, y_pred_tuned)\n",
    "mae_tuned = mean_absolute_error(y_test, y_pred_tuned)\n",
    "print(\"Best params:\", grid.best_params_)\n",
    "print(f\"TUNED -> R2: {r2_tuned:.4f}, MAE: {mae_tuned:.2f}\")\n",
    "\n",
    "joblib.dump(scaler, \"../results/outputs/IT24100507_best_decision_tree.joblib\")\n"
   ]
  },
  {
   "cell_type": "code",
   "execution_count": 11,
   "id": "b50a121a",
   "metadata": {},
   "outputs": [
    {
     "name": "stdout",
     "output_type": "stream",
     "text": [
      "PCA MODEL -> n_components=10 R2: 0.4606, MAE: 132143.96\n"
     ]
    },
    {
     "data": {
      "text/plain": [
       "['../results/outputs/IT24100507_pca_tree.joblib']"
      ]
     },
     "execution_count": 11,
     "metadata": {},
     "output_type": "execute_result"
    }
   ],
   "source": [
    "from sklearn.decomposition import PCA\n",
    "n_components = min(10, X_train.shape[1])\n",
    "pca = PCA(n_components=n_components, random_state=42)\n",
    "X_train_pca = pca.fit_transform(X_train_scaled)\n",
    "X_test_pca = pca.transform(X_test_scaled)\n",
    "\n",
    "pca_tree = DecisionTreeRegressor(random_state=42, max_depth=7)\n",
    "pca_tree.fit(X_train_pca, y_train)\n",
    "y_pred_pca = pca_tree.predict(X_test_pca)\n",
    "r2_pca = r2_score(y_test, y_pred_pca)\n",
    "mae_pca = mean_absolute_error(y_test, y_pred_pca)\n",
    "print(f\"PCA MODEL -> n_components={n_components} R2: {r2_pca:.4f}, MAE: {mae_pca:.2f}\")\n",
    "\n",
    "joblib.dump(scaler, \"../results/outputs/IT24100507_pca_transform.joblibe\")\n",
    "joblib.dump(scaler, \"../results/outputs/IT24100507_pca_tree.joblib\")\n",
    "\n"
   ]
  },
  {
   "cell_type": "code",
   "execution_count": 12,
   "id": "95a4228b",
   "metadata": {},
   "outputs": [
    {
     "name": "stdout",
     "output_type": "stream",
     "text": [
      "PRUNED MODEL -> R2: 0.5117, MAE: 126147.86\n"
     ]
    },
    {
     "data": {
      "text/plain": [
       "['../results/outputs/IT24100507_pruned_tree.joblib']"
      ]
     },
     "execution_count": 12,
     "metadata": {},
     "output_type": "execute_result"
    }
   ],
   "source": [
    "pruned_model = DecisionTreeRegressor(random_state=42, max_depth=5, min_samples_leaf=2)\n",
    "pruned_model.fit(X_train, y_train)\n",
    "y_pred_pruned = pruned_model.predict(X_test)\n",
    "r2_pruned = r2_score(y_test, y_pred_pruned)\n",
    "mae_pruned = mean_absolute_error(y_test, y_pred_pruned)\n",
    "print(f\"PRUNED MODEL -> R2: {r2_pruned:.4f}, MAE: {mae_pruned:.2f}\")\n",
    "\n",
    "\n",
    "joblib.dump(pruned_model, \"../results/outputs/IT24100507_pruned_tree.joblib\")\n",
    "\n",
    "\n"
   ]
  },
  {
   "cell_type": "code",
   "execution_count": 13,
   "id": "0a1df5c6",
   "metadata": {},
   "outputs": [
    {
     "name": "stdout",
     "output_type": "stream",
     "text": [
      "Tuned model CV R2 mean: 0.5215, std: 0.0376\n"
     ]
    }
   ],
   "source": [
    "cv_scores = cross_val_score(best_tree, X, y, cv=5, scoring='r2', n_jobs=-1)\n",
    "print(f\"Tuned model CV R2 mean: {cv_scores.mean():.4f}, std: {cv_scores.std():.4f}\")\n"
   ]
  },
  {
   "cell_type": "code",
   "execution_count": 14,
   "id": "0a45071d",
   "metadata": {},
   "outputs": [
    {
     "name": "stdout",
     "output_type": "stream",
     "text": [
      "=== Decision Tree Regressor - Model Comparison (All 4 Varieties) ===\n"
     ]
    },
    {
     "data": {
      "text/html": [
       "<div>\n",
       "<style scoped>\n",
       "    .dataframe tbody tr th:only-of-type {\n",
       "        vertical-align: middle;\n",
       "    }\n",
       "\n",
       "    .dataframe tbody tr th {\n",
       "        vertical-align: top;\n",
       "    }\n",
       "\n",
       "    .dataframe thead th {\n",
       "        text-align: right;\n",
       "    }\n",
       "</style>\n",
       "<table border=\"1\" class=\"dataframe\">\n",
       "  <thead>\n",
       "    <tr style=\"text-align: right;\">\n",
       "      <th></th>\n",
       "      <th>Model</th>\n",
       "      <th>R2</th>\n",
       "      <th>MAE</th>\n",
       "    </tr>\n",
       "  </thead>\n",
       "  <tbody>\n",
       "    <tr>\n",
       "      <th>1</th>\n",
       "      <td>Tuned</td>\n",
       "      <td>0.517094</td>\n",
       "      <td>125734.214006</td>\n",
       "    </tr>\n",
       "    <tr>\n",
       "      <th>3</th>\n",
       "      <td>Pruned</td>\n",
       "      <td>0.511684</td>\n",
       "      <td>126147.861827</td>\n",
       "    </tr>\n",
       "    <tr>\n",
       "      <th>2</th>\n",
       "      <td>PCA</td>\n",
       "      <td>0.460630</td>\n",
       "      <td>132143.961024</td>\n",
       "    </tr>\n",
       "    <tr>\n",
       "      <th>0</th>\n",
       "      <td>Base</td>\n",
       "      <td>0.295985</td>\n",
       "      <td>148446.058845</td>\n",
       "    </tr>\n",
       "  </tbody>\n",
       "</table>\n",
       "</div>"
      ],
      "text/plain": [
       "    Model        R2            MAE\n",
       "1   Tuned  0.517094  125734.214006\n",
       "3  Pruned  0.511684  126147.861827\n",
       "2     PCA  0.460630  132143.961024\n",
       "0    Base  0.295985  148446.058845"
      ]
     },
     "metadata": {},
     "output_type": "display_data"
    },
    {
     "data": {
      "image/png": "[encoded data removed]",
      "text/plain": [
       "<Figure size 700x400 with 1 Axes>"
      ]
     },
     "metadata": {},
     "output_type": "display_data"
    },
    {
     "data": {
      "image/png": "[encoded data removed]",
      "text/plain": [
       "<Figure size 700x400 with 1 Axes>"
      ]
     },
     "metadata": {},
     "output_type": "display_data"
    },
    {
     "name": "stdout",
     "output_type": "stream",
     "text": [
      "✅ Results saved successfully at: ../results/outputs/IT24100507_dt_results.csv\n",
      "    Model        R2            MAE\n",
      "0    Base  0.295985  148446.058845\n",
      "1   Tuned  0.517094  125734.214006\n",
      "2     PCA  0.460630  132143.961024\n",
      "3  Pruned  0.511684  126147.861827\n"
     ]
    }
   ],
   "source": [
    "# === Compare All 4 Varieties of Decision Tree Regressor ===\n",
    "import pandas as pd\n",
    "import matplotlib.pyplot as plt\n",
    "\n",
    "# Create a DataFrame with model results\n",
    "results_all = pd.DataFrame({\n",
    "    'Model': ['Base', 'Tuned', 'PCA', 'Pruned'],\n",
    "    'R2': [r2_base, r2_tuned, r2_pca, r2_pruned],\n",
    "    'MAE': [mae_base, mae_tuned, mae_pca, mae_pruned]\n",
    "})\n",
    "\n",
    "# Display the table sorted by R² (best model first)\n",
    "print(\"=== Decision Tree Regressor - Model Comparison (All 4 Varieties) ===\")\n",
    "display(results_all.sort_values('R2', ascending=False))\n",
    "\n",
    "# --- Plot R² Comparison (Higher is Better) ---\n",
    "plt.figure(figsize=(7,4))\n",
    "plt.bar(results_all['Model'], results_all['R2'])\n",
    "plt.title(\"R² Score Comparison (Higher is Better)\")\n",
    "plt.xlabel(\"Model Variety\")\n",
    "plt.ylabel(\"R² Score\")\n",
    "plot_path = \"../results/eda_visualizations/IT24100507_r2_comparisonpng.png\"\n",
    "plt.savefig(plot_path)\n",
    "plt.show()\n",
    "\n",
    "# --- Plot MAE Comparison (Lower is Better) ---\n",
    "plt.figure(figsize=(7,4))\n",
    "plt.bar(results_all['Model'], results_all['MAE'])\n",
    "plt.title(\"Mean Absolute Error Comparison (Lower is Better)\")\n",
    "plt.xlabel(\"Model Variety\")\n",
    "plt.ylabel(\"MAE\")\n",
    "plot_path = \"../results/eda_visualizations/IT24100507_mae_comparison.png\"\n",
    "plt.savefig(plot_path)\n",
    "plt.show()\n",
    "\n",
    "# --- (Optional) Save results for your report ---\n",
    "#results_all.to_csv(\"decision_tree_all_varieties_comparison.csv\", index=False)\n",
    "#print(\"✅ Saved results as decision_tree_all_varieties_comparison.csv\")\n",
    "\n",
    "# --- Save Results ---\n",
    "results_df = results_all  # use the DataFrame you already created\n",
    "csv_path = \"../results/outputs/IT24100507_dt_results.csv\"\n",
    "results_df.to_csv(csv_path, index=False)\n",
    "print(\"✅ Results saved successfully at:\", csv_path)\n",
    "print(results_df)\n",
    "\n",
    "\n",
    "\n",
    "\n"
   ]
  }
 ],
 "metadata": {
  "kernelspec": {
   "display_name": "Python 3",
   "language": "python",
   "name": "python3"
  },
  "language_info": {
   "codemirror_mode": {
    "name": "ipython",
    "version": 3
   },
   "file_extension": ".py",
   "mimetype": "text/x-python",
   "name": "python",
   "nbconvert_exporter": "python",
   "pygments_lexer": "ipython3",
   "version": "3.12.10"
  }
 },
 "nbformat": 4,
 "nbformat_minor": 5
}
