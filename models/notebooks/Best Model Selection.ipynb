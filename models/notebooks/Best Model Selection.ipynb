{
 "cells": [
  {
   "cell_type": "markdown",
   "id": "c24075c4",
   "metadata": {},
   "source": [
    "# Best Model Selection - Summary Table of Trained Models\n",
    "This Table compares the R² values of the 6 trained Models, and finds out which Model is most suitable out of all for implementation. Here only the best performing variation of the Model will be compared with each other Model."
   ]
  },
  {
   "cell_type": "code",
   "execution_count": 2,
   "id": "bc6427df",
   "metadata": {},
   "outputs": [
    {
     "data": {
      "text/html": [
       "<div>\n",
       "<style scoped>\n",
       "    .dataframe tbody tr th:only-of-type {\n",
       "        vertical-align: middle;\n",
       "    }\n",
       "\n",
       "    .dataframe tbody tr th {\n",
       "        vertical-align: top;\n",
       "    }\n",
       "\n",
       "    .dataframe thead th {\n",
       "        text-align: right;\n",
       "    }\n",
       "</style>\n",
       "<table border=\"1\" class=\"dataframe\">\n",
       "  <thead>\n",
       "    <tr style=\"text-align: right;\">\n",
       "      <th></th>\n",
       "      <th>Model</th>\n",
       "      <th>R²</th>\n",
       "    </tr>\n",
       "  </thead>\n",
       "  <tbody>\n",
       "    <tr>\n",
       "      <th>0</th>\n",
       "      <td>Decision Tree</td>\n",
       "      <td>0.517094</td>\n",
       "    </tr>\n",
       "    <tr>\n",
       "      <th>1</th>\n",
       "      <td>Random Forest</td>\n",
       "      <td>0.554600</td>\n",
       "    </tr>\n",
       "    <tr>\n",
       "      <th>2</th>\n",
       "      <td>MLP</td>\n",
       "      <td>0.553300</td>\n",
       "    </tr>\n",
       "    <tr>\n",
       "      <th>3</th>\n",
       "      <td>XGBoost</td>\n",
       "      <td>0.566784</td>\n",
       "    </tr>\n",
       "    <tr>\n",
       "      <th>4</th>\n",
       "      <td>SVR</td>\n",
       "      <td>0.514744</td>\n",
       "    </tr>\n",
       "    <tr>\n",
       "      <th>5</th>\n",
       "      <td>Linear Regression</td>\n",
       "      <td>0.518970</td>\n",
       "    </tr>\n",
       "  </tbody>\n",
       "</table>\n",
       "</div>"
      ],
      "text/plain": [
       "               Model        R²\n",
       "0      Decision Tree  0.517094\n",
       "1      Random Forest  0.554600\n",
       "2                MLP  0.553300\n",
       "3            XGBoost  0.566784\n",
       "4                SVR  0.514744\n",
       "5  Linear Regression  0.518970"
      ]
     },
     "metadata": {},
     "output_type": "display_data"
    },
    {
     "name": "stdout",
     "output_type": "stream",
     "text": [
      "Best model: XGBoost (R²=0.5668)\n"
     ]
    }
   ],
   "source": [
    "# Import necessary libraries\n",
    "import pandas as pd\n",
    "\n",
    "# Results of each model\n",
    "results = [\n",
    "    [\"Decision Tree\", 0.517094],\n",
    "    [\"Random Forest\", 0.5546],\n",
    "    [\"MLP\", 0.5533],\n",
    "    [\"XGBoost\", 0.566784],\n",
    "    [\"SVR\", 0.5147435174768522],\n",
    "    [\"Linear Regression\", 0.51897]\n",
    "]\n",
    "\n",
    "# Create DataFrame\n",
    "results_df = pd.DataFrame(results, columns=[\"Model\", \"R²\"])\n",
    "\n",
    "# Display the table\n",
    "display(results_df)\n",
    "\n",
    "# Print the best model based on R²\n",
    "best_model_row = results_df.loc[results_df['R²'].idxmax()]\n",
    "print(f\"Best model: {best_model_row['Model']} (R²={best_model_row['R²']:.4f})\")"
   ]
  },
  {
   "cell_type": "code",
   "execution_count": null,
   "id": "b7697b2b",
   "metadata": {},
   "outputs": [],
   "source": []
  }
 ],
 "metadata": {
  "kernelspec": {
   "display_name": "Python 3",
   "language": "python",
   "name": "python3"
  },
  "language_info": {
   "codemirror_mode": {
    "name": "ipython",
    "version": 3
   },
   "file_extension": ".py",
   "mimetype": "text/x-python",
   "name": "python",
   "nbconvert_exporter": "python",
   "pygments_lexer": "ipython3",
   "version": "3.13.3"
  }
 },
 "nbformat": 4,
 "nbformat_minor": 5
}
