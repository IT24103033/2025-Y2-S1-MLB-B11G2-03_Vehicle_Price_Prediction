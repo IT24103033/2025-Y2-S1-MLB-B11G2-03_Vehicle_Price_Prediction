{
 "cells": [
  {
   "cell_type": "markdown",
   "id": "fe42ce22",
   "metadata": {},
   "source": [
    "\n",
    "IT24103021 - Random Forest Regressor\n"
   ]
  },
  {
   "cell_type": "code",
   "execution_count": 104,
   "id": "ec4374d1",
   "metadata": {},
   "outputs": [],
   "source": [
    "# 1. Import and Setup\n",
    "import os\n",
    "import pandas as pd\n",
    "import numpy as np\n",
    "from sklearn.model_selection import train_test_split, GridSearchCV, KFold, cross_val_score\n",
    "from sklearn.ensemble import RandomForestRegressor\n",
    "from sklearn.pipeline import Pipeline\n",
    "from sklearn.preprocessing import StandardScaler\n",
    "from sklearn.decomposition import PCA\n",
    "from sklearn.impute import SimpleImputer\n",
    "from sklearn.metrics import r2_score, mean_absolute_error\n",
    "from sklearn.compose import ColumnTransformer\n",
    "import joblib\n",
    "import matplotlib.pyplot as plt\n",
    "import warnings\n",
    "warnings.filterwarnings(\"ignore\")\n"
   ]
  },
  {
   "cell_type": "code",
   "execution_count": 105,
   "id": "80c21171",
   "metadata": {},
   "outputs": [
    {
     "name": "stdout",
     "output_type": "stream",
     "text": [
      "Shape: (3063, 11)\n",
      "\n",
      "First few rows:\n"
     ]
    },
    {
     "data": {
      "text/html": [
       "<div>\n",
       "<style scoped>\n",
       "    .dataframe tbody tr th:only-of-type {\n",
       "        vertical-align: middle;\n",
       "    }\n",
       "\n",
       "    .dataframe tbody tr th {\n",
       "        vertical-align: top;\n",
       "    }\n",
       "\n",
       "    .dataframe thead th {\n",
       "        text-align: right;\n",
       "    }\n",
       "</style>\n",
       "<table border=\"1\" class=\"dataframe\">\n",
       "  <thead>\n",
       "    <tr style=\"text-align: right;\">\n",
       "      <th></th>\n",
       "      <th>car_age</th>\n",
       "      <th>year</th>\n",
       "      <th>owner</th>\n",
       "      <th>km_driven</th>\n",
       "      <th>brand_name_Mahindra</th>\n",
       "      <th>brand_name_Tata</th>\n",
       "      <th>brand_name_Toyota</th>\n",
       "      <th>brand_popularity</th>\n",
       "      <th>brand_name_Honda</th>\n",
       "      <th>brand_name_Chevrolet</th>\n",
       "      <th>selling_price</th>\n",
       "    </tr>\n",
       "  </thead>\n",
       "  <tbody>\n",
       "    <tr>\n",
       "      <th>0</th>\n",
       "      <td>0.684211</td>\n",
       "      <td>0.315789</td>\n",
       "      <td>0</td>\n",
       "      <td>0.421683</td>\n",
       "      <td>0.0</td>\n",
       "      <td>0.0</td>\n",
       "      <td>0.0</td>\n",
       "      <td>1.000000</td>\n",
       "      <td>0.0</td>\n",
       "      <td>0.0</td>\n",
       "      <td>60000.000000</td>\n",
       "    </tr>\n",
       "    <tr>\n",
       "      <th>1</th>\n",
       "      <td>0.684211</td>\n",
       "      <td>0.315789</td>\n",
       "      <td>0</td>\n",
       "      <td>0.301201</td>\n",
       "      <td>0.0</td>\n",
       "      <td>0.0</td>\n",
       "      <td>0.0</td>\n",
       "      <td>1.000000</td>\n",
       "      <td>0.0</td>\n",
       "      <td>0.0</td>\n",
       "      <td>504355.832295</td>\n",
       "    </tr>\n",
       "    <tr>\n",
       "      <th>2</th>\n",
       "      <td>0.421053</td>\n",
       "      <td>0.578947</td>\n",
       "      <td>0</td>\n",
       "      <td>0.602407</td>\n",
       "      <td>0.0</td>\n",
       "      <td>0.0</td>\n",
       "      <td>0.0</td>\n",
       "      <td>0.578947</td>\n",
       "      <td>0.0</td>\n",
       "      <td>0.0</td>\n",
       "      <td>600000.000000</td>\n",
       "    </tr>\n",
       "    <tr>\n",
       "      <th>3</th>\n",
       "      <td>0.157895</td>\n",
       "      <td>0.842105</td>\n",
       "      <td>0</td>\n",
       "      <td>0.277104</td>\n",
       "      <td>0.0</td>\n",
       "      <td>0.0</td>\n",
       "      <td>0.0</td>\n",
       "      <td>0.026316</td>\n",
       "      <td>0.0</td>\n",
       "      <td>0.0</td>\n",
       "      <td>250000.000000</td>\n",
       "    </tr>\n",
       "    <tr>\n",
       "      <th>4</th>\n",
       "      <td>0.315789</td>\n",
       "      <td>0.684211</td>\n",
       "      <td>2</td>\n",
       "      <td>0.849397</td>\n",
       "      <td>0.0</td>\n",
       "      <td>0.0</td>\n",
       "      <td>0.0</td>\n",
       "      <td>0.188259</td>\n",
       "      <td>1.0</td>\n",
       "      <td>0.0</td>\n",
       "      <td>450000.000000</td>\n",
       "    </tr>\n",
       "  </tbody>\n",
       "</table>\n",
       "</div>"
      ],
      "text/plain": [
       "    car_age      year  owner  km_driven  brand_name_Mahindra  brand_name_Tata  \\\n",
       "0  0.684211  0.315789      0   0.421683                  0.0              0.0   \n",
       "1  0.684211  0.315789      0   0.301201                  0.0              0.0   \n",
       "2  0.421053  0.578947      0   0.602407                  0.0              0.0   \n",
       "3  0.157895  0.842105      0   0.277104                  0.0              0.0   \n",
       "4  0.315789  0.684211      2   0.849397                  0.0              0.0   \n",
       "\n",
       "   brand_name_Toyota  brand_popularity  brand_name_Honda  \\\n",
       "0                0.0          1.000000               0.0   \n",
       "1                0.0          1.000000               0.0   \n",
       "2                0.0          0.578947               0.0   \n",
       "3                0.0          0.026316               0.0   \n",
       "4                0.0          0.188259               1.0   \n",
       "\n",
       "   brand_name_Chevrolet  selling_price  \n",
       "0                   0.0   60000.000000  \n",
       "1                   0.0  504355.832295  \n",
       "2                   0.0  600000.000000  \n",
       "3                   0.0  250000.000000  \n",
       "4                   0.0  450000.000000  "
      ]
     },
     "execution_count": 105,
     "metadata": {},
     "output_type": "execute_result"
    }
   ],
   "source": [
    "# 2. Load and Prepare Data \n",
    "\n",
    "df = pd.read_csv(\"../data/final_output.csv\")\n",
    "print(\"Shape:\", df.shape)\n",
    "\n",
    "print(\"\\nFirst few rows:\")\n",
    "df.head()\n"
   ]
  },
  {
   "cell_type": "code",
   "execution_count": 106,
   "id": "dae695f0",
   "metadata": {},
   "outputs": [],
   "source": [
    "#  Split Features and Target \n",
    "X = df.drop(columns=[\"selling_price\"]) # Input features\n",
    "y = df[\"selling_price\"]                # Target variable\n",
    "\n",
    "numeric_cols = X.columns.tolist()      # Get all numeric column names"
   ]
  },
  {
   "cell_type": "code",
   "execution_count": 107,
   "id": "9bc9cd43",
   "metadata": {},
   "outputs": [],
   "source": [
    "# 3. Data Preprocessing \n",
    "numeric_transformer = Pipeline(steps=[\n",
    "    (\"imputer\", SimpleImputer(strategy=\"median\")),\n",
    "    (\"scaler\", StandardScaler())\n",
    "])\n",
    "preprocessor = ColumnTransformer(transformers=[\n",
    "    (\"num\", numeric_transformer, numeric_cols)\n",
    "])"
   ]
  },
  {
   "cell_type": "code",
   "execution_count": 108,
   "id": "2f39df37",
   "metadata": {},
   "outputs": [],
   "source": [
    "# 4. Split the Data \n",
    "X_train, X_test, y_train, y_test = train_test_split(X, y, test_size=0.2, random_state=42) \n",
    "\n",
    "# 5. Cross-Validation Setup\n",
    "cv = KFold(n_splits=5, shuffle=True, random_state=42) # 5-fold cross-validation"
   ]
  },
  {
   "cell_type": "code",
   "execution_count": 109,
   "id": "3d60b8d9",
   "metadata": {},
   "outputs": [],
   "source": [
    "# Make Results Folders\n",
    "os.makedirs(\"../results/outputs\", exist_ok=True)\n",
    "os.makedirs(\"../results/eda_visualizations\", exist_ok=True)\n",
    "\n",
    "results = []"
   ]
  },
  {
   "cell_type": "code",
   "execution_count": 110,
   "id": "8b20fc05",
   "metadata": {},
   "outputs": [
    {
     "name": "stdout",
     "output_type": "stream",
     "text": [
      "Training Base Random Forest.\n",
      "\n",
      "Base RF - Test R²: 0.4786, Test MAE: 129563.21\n",
      "Base RF - CV R² Mean: 0.5139, CV MAE Mean: 122564.16\n"
     ]
    }
   ],
   "source": [
    "# 6. Variety 1: Base Random Forest\n",
    "print(\"Training Base Random Forest.\")\n",
    "base_model = Pipeline([\n",
    "    (\"preproc\", preprocessor),\n",
    "    (\"rf\", RandomForestRegressor(random_state=42))\n",
    "])\n",
    "base_model.fit(X_train, y_train)\n",
    "\n",
    "# Evaluate performance\n",
    "y_pred_base = base_model.predict(X_test)\n",
    "r2_base = r2_score(y_test, y_pred_base)\n",
    "mae_base = mean_absolute_error(y_test, y_pred_base)\n",
    "\n",
    "r2_cv_base = cross_val_score(base_model, X_train, y_train, cv=cv, scoring=\"r2\")\n",
    "mae_cv_base = -cross_val_score(base_model, X_train, y_train, cv=cv, scoring=\"neg_mean_absolute_error\")\n",
    "\n",
    "print(f\"\\nBase RF - Test R²: {r2_base:.4f}, Test MAE: {mae_base:.2f}\")\n",
    "print(f\"Base RF - CV R² Mean: {r2_cv_base.mean():.4f}, CV MAE Mean: {mae_cv_base.mean():.2f}\")\n",
    "\n",
    "# Save results\n",
    "results.append({\n",
    "    \"model\": \"Base_RF\",\n",
    "    \"test_r2\": round(r2_base, 4),\n",
    "    \"test_mae\": round(mae_base, 2),\n",
    "    \"cv_r2_mean\": round(r2_cv_base.mean(), 4),\n",
    "    \"cv_mae_mean\": round(mae_cv_base.mean(), 2)\n",
    "})"
   ]
  },
  {
   "cell_type": "code",
   "execution_count": 111,
   "id": "c961bb51",
   "metadata": {},
   "outputs": [
    {
     "name": "stdout",
     "output_type": "stream",
     "text": [
      "Tuning Random Forest with GridSearchCV.\n",
      "\n",
      "Best parameters: {'rf__max_depth': 10, 'rf__max_features': 0.8, 'rf__min_samples_split': 5, 'rf__n_estimators': 100}\n",
      "\n",
      "Tuned RF - Test R²: 0.5546, Test MAE: 121395.79\n",
      "Tuned RF - CV R² Mean: 0.5723, CV MAE Mean: 116046.51\n"
     ]
    }
   ],
   "source": [
    "# 7. Variety 2: Tuned Random Forest with GridSearchCV\n",
    "print(\"Tuning Random Forest with GridSearchCV.\")\n",
    "tuned_pipeline = Pipeline([\n",
    "    (\"preproc\", preprocessor),\n",
    "    (\"rf\", RandomForestRegressor(random_state=42))\n",
    "])\n",
    "\n",
    "# Define parameter grid for tuning\n",
    "param_grid = {\n",
    "    \"rf__n_estimators\": [100, 200],\n",
    "    \"rf__max_depth\": [None, 10, 20],\n",
    "    \"rf__min_samples_split\": [2, 5],\n",
    "    \"rf__max_features\": [\"sqrt\", 0.8]\n",
    "}\n",
    "\n",
    "# Perform grid search with 5-fold CV\n",
    "gscv = GridSearchCV(tuned_pipeline, param_grid, cv=cv, scoring=\"r2\", n_jobs=-1)\n",
    "gscv.fit(X_train, y_train)\n",
    "print(\"\\nBest parameters:\", gscv.best_params_)\n",
    "\n",
    "tuned_model = gscv.best_estimator_\n",
    "y_pred_tuned = tuned_model.predict(X_test)\n",
    "r2_tuned = r2_score(y_test, y_pred_tuned)\n",
    "mae_tuned = mean_absolute_error(y_test, y_pred_tuned)\n",
    "\n",
    "r2_cv_tuned = cross_val_score(tuned_model, X_train, y_train, cv=cv, scoring=\"r2\")\n",
    "mae_cv_tuned = -cross_val_score(tuned_model, X_train, y_train, cv=cv, scoring=\"neg_mean_absolute_error\")\n",
    "\n",
    "print(f\"\\nTuned RF - Test R²: {r2_tuned:.4f}, Test MAE: {mae_tuned:.2f}\")\n",
    "print(f\"Tuned RF - CV R² Mean: {r2_cv_tuned.mean():.4f}, CV MAE Mean: {mae_cv_tuned.mean():.2f}\")\n",
    "\n",
    "# Save results\n",
    "results.append({\n",
    "    \"model\": \"Tuned_RF\",\n",
    "    \"test_r2\": round(r2_tuned, 4),\n",
    "    \"test_mae\": round(mae_tuned, 2),\n",
    "    \"cv_r2_mean\": round(r2_cv_tuned.mean(), 4),\n",
    "    \"cv_mae_mean\": round(mae_cv_tuned.mean(), 2)\n",
    "})"
   ]
  },
  {
   "cell_type": "code",
   "execution_count": 112,
   "id": "ab231f7e",
   "metadata": {},
   "outputs": [
    {
     "name": "stdout",
     "output_type": "stream",
     "text": [
      "Training PCA (95%) + Tuned Random Forest.\n",
      "\n",
      "PCA best parameters: {'rf__max_depth': 10, 'rf__max_features': 'sqrt', 'rf__n_estimators': 200}\n",
      "\n",
      "PCA + Tuned RF - Test R²: 0.5407, Test MAE: 122738.88\n",
      "PCA + Tuned RF - CV R² Mean: 0.5489, CV MAE Mean: 118467.85\n"
     ]
    }
   ],
   "source": [
    "# 8. Variety 3: PCA (95%) + Tuned Random Forest\n",
    "print(\"Training PCA (95%) + Tuned Random Forest.\")\n",
    "pca_pipeline = Pipeline([\n",
    "    (\"preproc\", preprocessor),\n",
    "    (\"pca\", PCA(n_components=0.95, svd_solver=\"full\")),\n",
    "    (\"rf\", RandomForestRegressor(random_state=42))\n",
    "])\n",
    "\n",
    "param_grid_pca = {\n",
    "    \"rf__n_estimators\": [100, 200],\n",
    "    \"rf__max_depth\": [None, 10],\n",
    "    \"rf__max_features\": [\"sqrt\", 0.8]\n",
    "}\n",
    "\n",
    "# Tune Random Forest with PCA\n",
    "gscv_pca = GridSearchCV(pca_pipeline, param_grid_pca, cv=cv, scoring=\"r2\", n_jobs=-1)\n",
    "gscv_pca.fit(X_train, y_train)\n",
    "print(\"\\nPCA best parameters:\", gscv_pca.best_params_)\n",
    "\n",
    "# Evaluate PCA + RF model\n",
    "pca_model = gscv_pca.best_estimator_\n",
    "y_pred_pca = pca_model.predict(X_test)\n",
    "r2_pca = r2_score(y_test, y_pred_pca)\n",
    "mae_pca = mean_absolute_error(y_test, y_pred_pca)\n",
    "\n",
    "r2_cv_pca = cross_val_score(pca_model, X_train, y_train, cv=cv, scoring=\"r2\")\n",
    "mae_cv_pca = -cross_val_score(pca_model, X_train, y_train, cv=cv, scoring=\"neg_mean_absolute_error\")\n",
    "\n",
    "print(f\"\\nPCA + Tuned RF - Test R²: {r2_pca:.4f}, Test MAE: {mae_pca:.2f}\")\n",
    "print(f\"PCA + Tuned RF - CV R² Mean: {r2_cv_pca.mean():.4f}, CV MAE Mean: {mae_cv_pca.mean():.2f}\")\n",
    "\n",
    "# Save results\n",
    "results.append({\n",
    "    \"model\": \"PCA_Tuned_RF\",\n",
    "    \"test_r2\": round(r2_pca, 4),\n",
    "    \"test_mae\": round(mae_pca, 2),\n",
    "    \"cv_r2_mean\": round(r2_cv_pca.mean(), 4),\n",
    "    \"cv_mae_mean\": round(mae_cv_pca.mean(), 2)\n",
    "})"
   ]
  },
  {
   "cell_type": "code",
   "execution_count": 113,
   "id": "d983c150",
   "metadata": {},
   "outputs": [
    {
     "name": "stdout",
     "output_type": "stream",
     "text": [
      "          model  test_r2   test_mae  cv_r2_mean  cv_mae_mean\n",
      "0       Base_RF   0.4786  129563.21      0.5139    122564.16\n",
      "1      Tuned_RF   0.5546  121395.79      0.5723    116046.51\n",
      "2  PCA_Tuned_RF   0.5407  122738.88      0.5489    118467.85\n",
      "\n",
      " Based on R² and MAE, the best model is: Tuned_RF\n"
     ]
    }
   ],
   "source": [
    "# 9. Save Results\n",
    "results_df = pd.DataFrame(results)\n",
    "csv_path = \"../results/outputs/IT24103021_rf_results.csv\"\n",
    "results_df.to_csv(csv_path, index=False)\n",
    "print(results_df)\n",
    "\n",
    "# Identify and save the best model\n",
    "best_model_name = results_df.loc[results_df[\"test_r2\"].idxmax(), \"model\"]\n",
    "best_model = {\n",
    "    \"Base_RF\": base_model,\n",
    "    \"Tuned_RF\": tuned_model,\n",
    "    \"PCA_Tuned_RF\": pca_model\n",
    "}[best_model_name]\n",
    "\n",
    "model_path = \"../results/outputs/IT24103021_best_rf_model.joblib\"\n",
    "joblib.dump(best_model, model_path)\n",
    "\n",
    "print(f\"\\n Based on R² and MAE, the best model is: {best_model_name}\")\n"
   ]
  },
  {
   "cell_type": "code",
   "execution_count": 114,
   "id": "3566ca93",
   "metadata": {},
   "outputs": [
    {
     "data": {
      "image/png": "[encoded data removed]",
      "text/plain": [
       "<Figure size 600x400 with 1 Axes>"
      ]
     },
     "metadata": {},
     "output_type": "display_data"
    }
   ],
   "source": [
    "# 10. Visualization\n",
    "\n",
    "plt.figure(figsize=(6, 4))\n",
    "plt.bar(results_df[\"model\"], results_df[\"test_r2\"], color=[\"#69b3a2\", \"#4072b3\", \"#c94c4c\"])\n",
    "plt.title(\"Random Forest Model Comparison (R²)\")\n",
    "plt.ylabel(\"Test R² Score\")\n",
    "plt.xlabel(\"Model Type\")\n",
    "plt.tight_layout()\n",
    "\n",
    "plot_path = \"../results/eda_visualizations/IT24103021_rf_metrics_plot.png\"\n",
    "plt.savefig(plot_path)\n",
    "plt.show()"
   ]
  }
 ],
 "metadata": {
  "kernelspec": {
   "display_name": "Python 3",
   "language": "python",
   "name": "python3"
  },
  "language_info": {
   "codemirror_mode": {
    "name": "ipython",
    "version": 3
   },
   "file_extension": ".py",
   "mimetype": "text/x-python",
   "name": "python",
   "nbconvert_exporter": "python",
   "pygments_lexer": "ipython3",
   "version": "3.13.2"
  }
 },
 "nbformat": 4,
 "nbformat_minor": 5
}
